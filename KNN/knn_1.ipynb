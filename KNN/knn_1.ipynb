{
 "cells": [
  {
   "cell_type": "code",
   "outputs": [
    {
     "name": "stdout",
     "output_type": "stream",
     "text": [
      "K的取值为 1, 预测准确率为 88.5%\n",
      "K的取值为 2, 预测准确率为 88.0%\n",
      "K的取值为 3, 预测准确率为 88.0%\n",
      "K的取值为 4, 预测准确率为 87.0%\n",
      "K的取值为 5, 预测准确率为 88.5%\n",
      "K的取值为 6, 预测准确率为 88.5%\n",
      "K的取值为 7, 预测准确率为 87.5%\n",
      "K的取值为 8, 预测准确率为 87.5%\n",
      "K的取值为 9, 预测准确率为 87.0%\n",
      "K的取值为 10, 预测准确率为 86.0%\n",
      "K的取值为 11, 预测准确率为 88.0%\n",
      "K的取值为 12, 预测准确率为 86.5%\n",
      "K的取值为 13, 预测准确率为 87.5%\n",
      "K的取值为 14, 预测准确率为 87.5%\n",
      "K的取值为 15, 预测准确率为 86.0%\n",
      "K的取值为 16, 预测准确率为 85.5%\n",
      "K的取值为 17, 预测准确率为 85.0%\n",
      "K的取值为 18, 预测准确率为 85.0%\n",
      "K的取值为 19, 预测准确率为 84.5%\n"
     ]
    },
    {
     "data": {
      "text/plain": "<Figure size 640x480 with 1 Axes>",
      "image/png": "[encoded data removed]"
     },
     "metadata": {},
     "output_type": "display_data"
    }
   ],
   "source": [
    "# 手写数字识别\n",
    "from sklearn.neighbors import KNeighborsClassifier\n",
    "import matplotlib.pyplot as plt\n",
    "import numpy as np\n",
    "\n",
    "# 读入mnist数据集\n",
    "m_x = np.loadtxt('mnist_x', delimiter=' ')\n",
    "m_y = np.loadtxt('mnist_y')\n",
    "\n",
    "# 数据集可视化\n",
    "data = np.reshape(np.array(m_x[0], dtype=int), [28, 28])\n",
    "plt.figure()\n",
    "plt.imshow(data, cmap='gray')\n",
    "\n",
    "# 将数据集分为训练集和测试集\n",
    "ratio = 0.8\n",
    "split = int(len(m_x) * ratio)\n",
    "# 打乱数据\n",
    "np.random.seed(0)\n",
    "idx = np.random.permutation(np.arange(len(m_x)))\n",
    "m_x = m_x[idx]\n",
    "m_y = m_y[idx]\n",
    "x_train, x_test = m_x[:split], m_x[split:]\n",
    "y_train, y_test = m_y[:split], m_y[split:]\n",
    "\n",
    "for k in range(1, 20):\n",
    "    knn = KNeighborsClassifier(k, p=2)\n",
    "    knn.fit(x_train, y_train)\n",
    "    predicted_labels = knn.predict(x_test)\n",
    "\n",
    "    accuracy = np.mean(predicted_labels == y_test)\n",
    "    print(f'K的取值为 {k}, 预测准确率为 {accuracy * 100:.1f}%')\n"
   ],
   "metadata": {
    "collapsed": false,
    "ExecuteTime": {
     "end_time": "2024-07-15T02:25:36.197792Z",
     "start_time": "2024-07-15T02:25:34.547781Z"
    }
   },
   "id": "dbbec7c7fe339b83",
   "execution_count": 1
  },
  {
   "cell_type": "code",
   "outputs": [],
   "source": [],
   "metadata": {
    "collapsed": false
   },
   "id": "545b19e33ee3717f"
  }
 ],
 "metadata": {
  "kernelspec": {
   "name": "python3",
   "language": "python",
   "display_name": "Python 3 (ipykernel)"
  }
 },
 "nbformat": 4,
 "nbformat_minor": 5
}

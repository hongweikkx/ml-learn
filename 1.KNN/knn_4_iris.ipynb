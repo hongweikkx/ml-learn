{
 "cells": [
  {
   "cell_type": "code",
   "id": "initial_id",
   "metadata": {
    "collapsed": true,
    "ExecuteTime": {
     "end_time": "2025-09-02T07:42:44.521627Z",
     "start_time": "2025-09-02T07:42:44.489508Z"
    }
   },
   "source": [
    "import pandas as pd\n",
    "import numpy as np\n",
    "from sklearn.neighbors import KNeighborsClassifier\n",
    "\n",
    "data = pd.read_csv(\"iris.csv\", header = None)\n",
    "print('数据集大小', len(data))\n",
    "x_train = data.iloc[:, :4].values\n",
    "y_train = data.iloc[:, 4].values\n",
    "print('数据集大小', len(x_train))\n",
    "\n",
    "# 数据打乱\n",
    "np.random.seed(0)\n",
    "idx = np.random.permutation(np.arange(len(x_train)))\n",
    "m_x = x_train[idx]\n",
    "m_y = y_train[idx]\n",
    "\n",
    "# 将数据集分为训练集和测试集\n",
    "ratio = 0.8\n",
    "split = int(len(m_x) * ratio)\n",
    "x_train, x_test = m_x[:split], m_x[split:]\n",
    "y_train, y_test = m_y[:split], m_y[split:]\n",
    "\n",
    "for k in range(1, 11):\n",
    "    knn = KNeighborsClassifier(n_neighbors=k, p=2)\n",
    "    knn.fit(x_train, y_train)\n",
    "    predicted_labels = knn.predict(x_test)\n",
    "\n",
    "    accuracy = np.mean(predicted_labels == y_test)\n",
    "    print(f'K的取值为 {k}, 预测准确率为 {accuracy * 100:.1f}%')\n",
    "\n"
   ],
   "outputs": [
    {
     "name": "stdout",
     "output_type": "stream",
     "text": [
      "数据集大小 150\n",
      "数据集大小 150\n",
      "K的取值为 1, 预测准确率为 93.3%\n",
      "K的取值为 2, 预测准确率为 93.3%\n",
      "K的取值为 3, 预测准确率为 93.3%\n",
      "K的取值为 4, 预测准确率为 93.3%\n",
      "K的取值为 5, 预测准确率为 93.3%\n",
      "K的取值为 6, 预测准确率为 93.3%\n",
      "K的取值为 7, 预测准确率为 90.0%\n",
      "K的取值为 8, 预测准确率为 96.7%\n",
      "K的取值为 9, 预测准确率为 93.3%\n",
      "K的取值为 10, 预测准确率为 96.7%\n"
     ]
    }
   ],
   "execution_count": null
  },
  {
   "metadata": {},
   "cell_type": "code",
   "outputs": [],
   "execution_count": null,
   "source": "",
   "id": "1452106b421e8f98"
  },
  {
   "metadata": {},
   "cell_type": "code",
   "outputs": [],
   "execution_count": null,
   "source": "",
   "id": "a48ac40cd1945323"
  }
 ],
 "metadata": {
  "kernelspec": {
   "display_name": "Python 3",
   "language": "python",
   "name": "python3"
  },
  "language_info": {
   "codemirror_mode": {
    "name": "ipython",
    "version": 2
   },
   "file_extension": ".py",
   "mimetype": "text/x-python",
   "name": "python",
   "nbconvert_exporter": "python",
   "pygments_lexer": "ipython2",
   "version": "2.7.6"
  }
 },
 "nbformat": 4,
 "nbformat_minor": 5
}

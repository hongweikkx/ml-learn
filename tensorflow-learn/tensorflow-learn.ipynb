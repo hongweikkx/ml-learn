{
 "cells": [
  {
   "cell_type": "code",
   "id": "initial_id",
   "metadata": {
    "collapsed": true,
    "ExecuteTime": {
     "end_time": "2025-09-03T06:24:51.414464Z",
     "start_time": "2025-09-03T06:24:51.276392Z"
    }
   },
   "source": [
    "import tensorflow as tf\n",
    "\n",
    "x = tf.range(4, dtype=tf.float32)\n",
    "x = tf.Variable(x)\n",
    "\n",
    "with tf.GradientTape() as t:\n",
    "    y = 2 *tf.tensordot(x, x, axes=1)\n",
    "print(y)\n",
    "x_grad = t.gradient(y, x)\n",
    "print(x_grad)"
   ],
   "outputs": [
    {
     "name": "stdout",
     "output_type": "stream",
     "text": [
      "tf.Tensor(28.0, shape=(), dtype=float32)\n",
      "tf.Tensor([ 0.  4.  8. 12.], shape=(4,), dtype=float32)\n"
     ]
    }
   ],
   "execution_count": 19
  },
  {
   "metadata": {},
   "cell_type": "code",
   "outputs": [],
   "execution_count": null,
   "source": "",
   "id": "4aaf9a90f12c943"
  }
 ],
 "metadata": {
  "kernelspec": {
   "display_name": "Python 3",
   "language": "python",
   "name": "python3"
  },
  "language_info": {
   "codemirror_mode": {
    "name": "ipython",
    "version": 2
   },
   "file_extension": ".py",
   "mimetype": "text/x-python",
   "name": "python",
   "nbconvert_exporter": "python",
   "pygments_lexer": "ipython2",
   "version": "2.7.6"
  }
 },
 "nbformat": 4,
 "nbformat_minor": 5
}

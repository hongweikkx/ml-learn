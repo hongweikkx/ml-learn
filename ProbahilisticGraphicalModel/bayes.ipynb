{
 "cells": [
  {
   "cell_type": "code",
   "outputs": [],
   "source": [
    "# 朴素贝叶斯\n",
    "from sklearn.datasets import fetch_20newsgroups_vectorized\n",
    "from sklearn.naive_bayes import MultinomialNB\n",
    "train_data = fetch_20newsgroups_vectorized(subset='train', normalize=False, data_home='20newsgroups', download_if_missing=False)\n",
    "test_data = fetch_20newsgroups_vectorized(subset='test', normalize=False, data_home='20newsgroups', download_if_missing=False)\n",
    "print('文章主题: ', '\\n'.join(train_data.target_names))\n",
    "print(train_data.data[0])\n",
    "\n",
    "\n",
    "alpha = 1.0\n",
    "mnb = MultinomialNB(alpha=alpha)\n",
    "mnb.fit(train_data.data, train_data.target)\n",
    "print('分类准确率：', mnb.score(test_data.data, test_data.target))\n"
   ],
   "metadata": {
    "collapsed": false
   },
   "id": "2bf327962e10375c",
   "execution_count": null
  }
 ],
 "metadata": {
  "kernelspec": {
   "display_name": "Python 3",
   "language": "python",
   "name": "python3"
  },
  "language_info": {
   "codemirror_mode": {
    "name": "ipython",
    "version": 2
   },
   "file_extension": ".py",
   "mimetype": "text/x-python",
   "name": "python",
   "nbconvert_exporter": "python",
   "pygments_lexer": "ipython2",
   "version": "2.7.6"
  }
 },
 "nbformat": 4,
 "nbformat_minor": 5
}
